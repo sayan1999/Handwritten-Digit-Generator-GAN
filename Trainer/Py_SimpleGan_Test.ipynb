{
 "cells": [
  {
   "cell_type": "markdown",
   "metadata": {
    "id": "78IrXdVpKh9j"
   },
   "source": [
    "## Platform"
   ]
  },
  {
   "cell_type": "code",
   "execution_count": 7,
   "metadata": {
    "ExecuteTime": {
     "end_time": "2021-01-01T12:48:22.485983Z",
     "start_time": "2021-01-01T12:48:22.478870Z"
    },
    "id": "WdqMpJ6uKh9k"
   },
   "outputs": [],
   "source": [
    "colab = False"
   ]
  },
  {
   "cell_type": "markdown",
   "metadata": {
    "id": "8Trbo590Kh9l"
   },
   "source": [
    "# Configurations"
   ]
  },
  {
   "cell_type": "code",
   "execution_count": 8,
   "metadata": {
    "ExecuteTime": {
     "end_time": "2021-01-01T12:48:23.858999Z",
     "start_time": "2021-01-01T12:48:23.851310Z"
    },
    "id": "9CSyV2MrKh9l"
   },
   "outputs": [],
   "source": [
    "image_shape = (28, 28, 1)\n",
    "input_noise_shape = (100,)\n",
    "training_epochs = 20000"
   ]
  },
  {
   "cell_type": "code",
   "execution_count": 9,
   "metadata": {
    "ExecuteTime": {
     "end_time": "2021-01-01T12:48:24.440121Z",
     "start_time": "2021-01-01T12:48:24.432199Z"
    },
    "colab": {
     "base_uri": "https://localhost:8080/"
    },
    "id": "jUNwvC8ueXis",
    "outputId": "7c4ca9eb-a9be-4bc2-d378-e99b0443ea1c"
   },
   "outputs": [],
   "source": [
    "import os\n",
    "\n",
    "directory = '/content/drive/My Drive/Colab Notebooks' if colab else '.'\n",
    "\n",
    "if colab:\n",
    "    from google.colab import drive\n",
    "    drive.mount('/content/drive')\n",
    "\n",
    "trainedfile = 'model.h5'\n",
    "checkpointfolder = 'mnist/models'\n",
    "resultsfolder = 'mnist/results'\n",
    "\n",
    "if not os.path.isdir(os.path.join(directory, checkpointfolder)):\n",
    "    os.makedirs(os.path.join(directory, checkpointfolder))\n",
    "\n",
    "if not os.path.isdir(os.path.join(directory, resultsfolder)):\n",
    "    os.makedirs(os.path.join(directory, resultsfolder))"
   ]
  },
  {
   "cell_type": "code",
   "execution_count": null,
   "metadata": {
    "id": "6rrSXuiPKh9x"
   },
   "outputs": [],
   "source": []
  },
  {
   "cell_type": "code",
   "execution_count": null,
   "metadata": {
    "id": "dZ7wGE9SKh9x"
   },
   "outputs": [],
   "source": []
  },
  {
   "cell_type": "markdown",
   "metadata": {
    "id": "XruTRaZKKh9y"
   },
   "source": [
    "# Prediction"
   ]
  },
  {
   "cell_type": "code",
   "execution_count": 14,
   "metadata": {
    "ExecuteTime": {
     "end_time": "2021-01-01T12:54:11.135480Z",
     "start_time": "2021-01-01T12:54:10.688767Z"
    },
    "colab": {
     "base_uri": "https://localhost:8080/",
     "height": 1000
    },
    "id": "otz9Q_Yoey_1",
    "outputId": "62b45846-6714-4a17-f32c-4a08b8239b0e"
   },
   "outputs": [
    {
     "name": "stdout",
     "output_type": "stream",
     "text": [
      "WARNING:tensorflow:Error in loading the saved optimizer state. As a result, your model is starting with a freshly initialized optimizer.\n",
      "Saved as ./mnist/results/mnist-0.png\n",
      "Saved as ./mnist/results/mnist-1.png\n",
      "Saved as ./mnist/results/mnist-2.png\n",
      "Saved as ./mnist/results/mnist-3.png\n",
      "Saved as ./mnist/results/mnist-4.png\n",
      "Saved as ./mnist/results/mnist-5.png\n",
      "Saved as ./mnist/results/mnist-6.png\n",
      "Saved as ./mnist/results/mnist-7.png\n",
      "Saved as ./mnist/results/mnist-8.png\n",
      "Saved as ./mnist/results/mnist-9.png\n",
      "Saved as ./mnist/results/mnist-10.png\n",
      "Saved as ./mnist/results/mnist-11.png\n",
      "Saved as ./mnist/results/mnist-12.png\n",
      "Saved as ./mnist/results/mnist-13.png\n",
      "Saved as ./mnist/results/mnist-14.png\n",
      "Saved as ./mnist/results/mnist-15.png\n",
      "Saved as ./mnist/results/mnist-16.png\n",
      "Saved as ./mnist/results/mnist-17.png\n",
      "Saved as ./mnist/results/mnist-18.png\n",
      "Saved as ./mnist/results/mnist-19.png\n",
      "Saved as ./mnist/results/mnist-20.png\n",
      "Saved as ./mnist/results/mnist-21.png\n",
      "Saved as ./mnist/results/mnist-22.png\n",
      "Saved as ./mnist/results/mnist-23.png\n",
      "Saved as ./mnist/results/mnist-24.png\n",
      "Saved as ./mnist/results/mnist-25.png\n",
      "Saved as ./mnist/results/mnist-26.png\n",
      "Saved as ./mnist/results/mnist-27.png\n",
      "Saved as ./mnist/results/mnist-28.png\n",
      "Saved as ./mnist/results/mnist-29.png\n",
      "Saved as ./mnist/results/mnist-30.png\n",
      "Saved as ./mnist/results/mnist-31.png\n",
      "Saved as ./mnist/results/mnist-32.png\n",
      "Saved as ./mnist/results/mnist-33.png\n",
      "Saved as ./mnist/results/mnist-34.png\n",
      "Saved as ./mnist/results/mnist-35.png\n",
      "Saved as ./mnist/results/mnist-36.png\n",
      "Saved as ./mnist/results/mnist-37.png\n",
      "Saved as ./mnist/results/mnist-38.png\n",
      "Saved as ./mnist/results/mnist-39.png\n",
      "Saved as ./mnist/results/mnist-40.png\n",
      "Saved as ./mnist/results/mnist-41.png\n",
      "Saved as ./mnist/results/mnist-42.png\n",
      "Saved as ./mnist/results/mnist-43.png\n",
      "Saved as ./mnist/results/mnist-44.png\n",
      "Saved as ./mnist/results/mnist-45.png\n",
      "Saved as ./mnist/results/mnist-46.png\n",
      "Saved as ./mnist/results/mnist-47.png\n",
      "Saved as ./mnist/results/mnist-48.png\n",
      "Saved as ./mnist/results/mnist-49.png\n",
      "Saved as ./mnist/results/mnist-50.png\n",
      "Saved as ./mnist/results/mnist-51.png\n",
      "Saved as ./mnist/results/mnist-52.png\n",
      "Saved as ./mnist/results/mnist-53.png\n",
      "Saved as ./mnist/results/mnist-54.png\n",
      "Saved as ./mnist/results/mnist-55.png\n",
      "Saved as ./mnist/results/mnist-56.png\n",
      "Saved as ./mnist/results/mnist-57.png\n",
      "Saved as ./mnist/results/mnist-58.png\n",
      "Saved as ./mnist/results/mnist-59.png\n",
      "Saved as ./mnist/results/mnist-60.png\n",
      "Saved as ./mnist/results/mnist-61.png\n",
      "Saved as ./mnist/results/mnist-62.png\n",
      "Saved as ./mnist/results/mnist-63.png\n",
      "Saved as ./mnist/results/mnist-64.png\n",
      "Saved as ./mnist/results/mnist-65.png\n",
      "Saved as ./mnist/results/mnist-66.png\n",
      "Saved as ./mnist/results/mnist-67.png\n",
      "Saved as ./mnist/results/mnist-68.png\n",
      "Saved as ./mnist/results/mnist-69.png\n",
      "Saved as ./mnist/results/mnist-70.png\n",
      "Saved as ./mnist/results/mnist-71.png\n",
      "Saved as ./mnist/results/mnist-72.png\n",
      "Saved as ./mnist/results/mnist-73.png\n",
      "Saved as ./mnist/results/mnist-74.png\n",
      "Saved as ./mnist/results/mnist-75.png\n",
      "Saved as ./mnist/results/mnist-76.png\n",
      "Saved as ./mnist/results/mnist-77.png\n",
      "Saved as ./mnist/results/mnist-78.png\n",
      "Saved as ./mnist/results/mnist-79.png\n",
      "Saved as ./mnist/results/mnist-80.png\n",
      "Saved as ./mnist/results/mnist-81.png\n",
      "Saved as ./mnist/results/mnist-82.png\n",
      "Saved as ./mnist/results/mnist-83.png\n",
      "Saved as ./mnist/results/mnist-84.png\n",
      "Saved as ./mnist/results/mnist-85.png\n",
      "Saved as ./mnist/results/mnist-86.png\n",
      "Saved as ./mnist/results/mnist-87.png\n",
      "Saved as ./mnist/results/mnist-88.png\n",
      "Saved as ./mnist/results/mnist-89.png\n",
      "Saved as ./mnist/results/mnist-90.png\n",
      "Saved as ./mnist/results/mnist-91.png\n",
      "Saved as ./mnist/results/mnist-92.png\n",
      "Saved as ./mnist/results/mnist-93.png\n",
      "Saved as ./mnist/results/mnist-94.png\n",
      "Saved as ./mnist/results/mnist-95.png\n",
      "Saved as ./mnist/results/mnist-96.png\n",
      "Saved as ./mnist/results/mnist-97.png\n",
      "Saved as ./mnist/results/mnist-98.png\n",
      "Saved as ./mnist/results/mnist-99.png\n"
     ]
    }
   ],
   "source": [
    "from tensorflow import keras\n",
    "import numpy as np, cv2, os\n",
    "\n",
    "generator=keras.models.load_model(os.path.join(directory, checkpointfolder, trainedfile))\n",
    "\n",
    "if colab:\n",
    "    from google.colab.patches import cv2_imshow\n",
    "\n",
    "    \n",
    "num_of_image_to_generate = 100\n",
    "generated_images=generator(np.random.normal(0, 0.5, (num_of_image_to_generate, *input_noise_shape)))\n",
    "\n",
    "for i, image in enumerate(generated_images):    \n",
    "    resized=cv2.resize(image.numpy(), (128, 128), interpolation = cv2.INTER_AREA)*128.0 + 128.0\n",
    "    if colab:\n",
    "        cv2_imshow(resized)\n",
    "    if cv2.imwrite(os.path.join(directory, resultsfolder, f'mnist-{i}.png'), resized):\n",
    "        print(f'Saved as {os.path.join(directory, resultsfolder, f\"mnist-{i}.png\")}')            "
   ]
  },
  {
   "cell_type": "code",
   "execution_count": null,
   "metadata": {},
   "outputs": [],
   "source": []
  },
  {
   "cell_type": "code",
   "execution_count": null,
   "metadata": {},
   "outputs": [],
   "source": []
  },
  {
   "cell_type": "code",
   "execution_count": 11,
   "metadata": {},
   "outputs": [
    {
     "name": "stderr",
     "output_type": "stream",
     "text": [
      "/home/sayan/anaconda3/lib/python3.8/site-packages/tensorflowjs/converters/keras_h5_conversion.py:123: H5pyDeprecationWarning: The default file mode will change to 'r' (read-only) in h5py 3.0. To suppress this warning, pass the mode you need to h5py.File(), or set the global default h5.get_config().default_file_mode, or set the environment variable H5PY_DEFAULT_READONLY=1. Available modes are: 'r', 'r+', 'w', 'w-'/'x', 'a'. See the docs for details.\n",
      "  return h5py.File(h5file)\n"
     ]
    }
   ],
   "source": [
    "tfjs_target_dir='../Server/static/tfjs-models/hadwritten-digits'\n",
    "\n",
    "import tensorflowjs as tfjs\n",
    "tfjs.converters.save_keras_model(generator, tfjs_target_dir)\n",
    "\n",
    "# handle functional model\n",
    "import json\n",
    "jsonfile=os.path.join(tfjs_target_dir, 'model.json')\n",
    "with open(jsonfile) as f:\n",
    "    j=json.load(f)\n",
    "    j['modelTopology']['model_config']['class_name'] = 'Model'\n",
    "    \n",
    "with open(jsonfile, 'w') as f:\n",
    "    json.dump(j, f)"
   ]
  },
  {
   "cell_type": "code",
   "execution_count": null,
   "metadata": {},
   "outputs": [],
   "source": []
  }
 ],
 "metadata": {
  "accelerator": "GPU",
  "colab": {
   "collapsed_sections": [],
   "name": "Py_SimpleGan.ipynb",
   "provenance": []
  },
  "kernelspec": {
   "display_name": "base",
   "language": "python",
   "name": "base"
  },
  "language_info": {
   "codemirror_mode": {
    "name": "ipython",
    "version": 3
   },
   "file_extension": ".py",
   "mimetype": "text/x-python",
   "name": "python",
   "nbconvert_exporter": "python",
   "pygments_lexer": "ipython3",
   "version": "3.8.5"
  }
 },
 "nbformat": 4,
 "nbformat_minor": 4
}
